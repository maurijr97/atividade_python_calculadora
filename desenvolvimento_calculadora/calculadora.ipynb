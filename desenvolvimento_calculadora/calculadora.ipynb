{
 "cells": [
  {
   "cell_type": "code",
   "execution_count": 1,
   "id": "3c8f20d5",
   "metadata": {},
   "outputs": [],
   "source": [
    "def calculadora(num1, num2, operacao):\n",
    "    if operacao == 1:\n",
    "        return num1 + num2\n",
    "    elif operacao == 2:\n",
    "        return num1 - num2\n",
    "    elif operacao == 3:\n",
    "        return num1 * num2\n",
    "    elif operacao == 4:\n",
    "        if num2 != 0:\n",
    "            return num1 / num2\n",
    "        else:\n",
    "            print(\"Erro: Divisão por zero.\")\n",
    "            return 0\n",
    "    else:\n",
    "        print(\"Operação inválida.\")\n",
    "        return 0"
   ]
  },
  {
   "cell_type": "code",
   "execution_count": 2,
   "id": "8865aa2c",
   "metadata": {},
   "outputs": [
    {
     "name": "stdout",
     "output_type": "stream",
     "text": [
      "Resultado da Soma: 8\n"
     ]
    }
   ],
   "source": [
    "resultado_soma = calculadora(5, 3, 1)\n",
    "print(\"Resultado da Soma:\", resultado_soma)"
   ]
  },
  {
   "cell_type": "code",
   "execution_count": 3,
   "id": "8cc145a1",
   "metadata": {},
   "outputs": [
    {
     "name": "stdout",
     "output_type": "stream",
     "text": [
      "Resultado da Subtração: 6\n"
     ]
    }
   ],
   "source": [
    "resultado_subtracao = calculadora(8, 2, 2)\n",
    "print(\"Resultado da Subtração:\", resultado_subtracao)"
   ]
  },
  {
   "cell_type": "code",
   "execution_count": 4,
   "id": "6ae06c23",
   "metadata": {},
   "outputs": [
    {
     "name": "stdout",
     "output_type": "stream",
     "text": [
      "Resultado da Multiplicação: 24\n"
     ]
    }
   ],
   "source": [
    "resultado_multiplicacao = calculadora(4, 6, 3)\n",
    "print(\"Resultado da Multiplicação:\", resultado_multiplicacao)"
   ]
  },
  {
   "cell_type": "code",
   "execution_count": 5,
   "id": "145d54da",
   "metadata": {},
   "outputs": [
    {
     "name": "stdout",
     "output_type": "stream",
     "text": [
      "Resultado da Divisão: 5.0\n"
     ]
    }
   ],
   "source": [
    "resultado_divisao = calculadora(10, 2, 4)\n",
    "print(\"Resultado da Divisão:\", resultado_divisao)"
   ]
  },
  {
   "cell_type": "code",
   "execution_count": 6,
   "id": "1dd5d8e1",
   "metadata": {},
   "outputs": [
    {
     "name": "stdout",
     "output_type": "stream",
     "text": [
      "Operação inválida.\n",
      "Resultado com Operação Inválida: 0\n"
     ]
    }
   ],
   "source": [
    "resultado_operacao_invalida = calculadora(3, 5, 6)\n",
    "print(\"Resultado com Operação Inválida:\", resultado_operacao_invalida)"
   ]
  }
 ],
 "metadata": {
  "kernelspec": {
   "display_name": "Python 3 (ipykernel)",
   "language": "python",
   "name": "python3"
  },
  "language_info": {
   "codemirror_mode": {
    "name": "ipython",
    "version": 3
   },
   "file_extension": ".py",
   "mimetype": "text/x-python",
   "name": "python",
   "nbconvert_exporter": "python",
   "pygments_lexer": "ipython3",
   "version": "3.11.3"
  }
 },
 "nbformat": 4,
 "nbformat_minor": 5
}
